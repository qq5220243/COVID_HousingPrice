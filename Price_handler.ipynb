{
 "cells": [
  {
   "cell_type": "code",
   "execution_count": 2,
   "metadata": {
    "scrolled": true
   },
   "outputs": [
    {
     "name": "stdout",
     "output_type": "stream",
     "text": [
      "ok\n"      
     ]
    }
   ],
   "source": [
    "import requests\n",
    "import time\n",
    "from bs4 import BeautifulSoup\n",
    "import xml.etree.ElementTree as ET\n",
    "import pandas as pd\n",
    "from tqdm import tqdm\n",
    "\n",
    "result =pd.DataFrame(columns=('name','addr','value'))\n",

    "headers = {\n",
    "    \"user-agent\":\"Mozilla/5.0 (Windows NT 6.1; Win64; x64) AppleWebKit/537.36 (KHTML, like Gecko) Chrome/79.0.3945.117 Safari/537.36\",\n",
    "    \"referer\": \"https://aq.58.com/ershoufang/?&cmcskey=%E5%B0%8F%E5%8C%BA&final=1&jump=1&searchtype=3&sourcetype=5&key=%E5%B0%8F%E5%8C%BA\"\n",
    "}\n",
    "\n",
    "parameters = {\n",
    "    \"final\": \"1\",\n",
    "    \"jump\": \"1\",\n",
    "    \"specialtype\": \"gls\",\n",
    "    \"classpolicy\": \"main_A,job_A\",\n",
    "    \"ClickID\": \"1\"\n",
    "}\n",
    "\n",
    "city=\"hz\"  #qz109 yiyang27 \n",
    "pagenum=40#200\n",
    "\n",
    "if __name__ == '__main__':\n",
    "    # page\n",
    "    for j in tqdm(range(16,pagenum+1)):\n",
    "        data = requests.get(\"https://\"+city+\".58.com/xiaoqu/87/pn_\"+str(j), headers=headers, params=parameters)\n",
    "        soup = BeautifulSoup(data.text, \"html5lib\")\n",
    "        tiles = []\n",
    "        valus = []\n",
    "        addrs = []\n",
    "        tile_lis = soup.find_all(class_=\"title\")\n",
    "        valu_lis = soup.find_all(class_=\"unit\")\n",
    "        addr_lis = soup.find_all(class_=\"baseinfo\")\n",
    "        for tile in tile_lis:\n",
    "            tile1=list(tile.stripped_strings)\n",
    "            tiles.append(tile1)\n",
    "        for addr in addr_lis:\n",
    "            addr1=list(addr.stripped_strings)\n",
    "            addrs.append(addr1)\n",
    "        for valu in valu_lis:\n",
    "            valu1=list(valu.stripped_strings)\n",
    "            valus.append(valu1)\n",
    "        i=0\n",
    "        while i< len(tiles):\n",
    "            result=result.append(pd.DataFrame({'name':[''.join(tiles[i])],'addr':[''.join(addrs[3*i])],'value':[''.join(valus[i])]}),ignore_index=True)\n",
    "            i=i+1\n",
    "                #Title_get(li)\n",

    "            #print(tiles[2],addrs[6],valus[2])\n",
    "        filename=city+'2.csv'\n",
    "        result.to_csv(filename,sep=',' ,index=False,encoding='utf_8_sig')\n",
    "        print(\"No.\"+str(j)+\"page done!\")\n",
    "        time.sleep(3)"
   ]
  },
  {
   "cell_type": "code",
   "execution_count": null,
   "metadata": {},
   "outputs": [],
   "source": []
  },
  {
   "cell_type": "code",
   "execution_count": null,
   "metadata": {},
   "outputs": [],
   "source": []
  }
 ],
 "metadata": {
  "kernelspec": {
   "display_name": "Python 3",
   "language": "python",
   "name": "python3"
  },
  "language_info": {
   "codemirror_mode": {
    "name": "ipython",
    "version": 3
   },
   "file_extension": ".py",
   "mimetype": "text/x-python",
   "name": "python",
   "nbconvert_exporter": "python",
   "pygments_lexer": "ipython3",
   "version": "3.6.7"
  }
 },
 "nbformat": 4,
 "nbformat_minor": 2
}
