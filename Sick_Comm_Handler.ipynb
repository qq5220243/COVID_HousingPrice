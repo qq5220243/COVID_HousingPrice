{
 "cells": [
  {
   "cell_type": "code",
   "execution_count": 2,
   "metadata": {
    "scrolled": true
   },
   "outputs": [
    {
     "name": "stderr",
     "output_type": "stream",
     "text": [
      "100%|██████████████████████████████████████████████████████████████████████████████████████████████████████| 13/13 [00:03<00:00,  3.68it/s]\n"
     ]
    },
    {
     "data": {
      "text/plain": [
       "'\\nresult =pd.DataFrame(columns=(\\'x\\',\\'y\\',\\'add\\'))\\nfor data in tqdm(numlist):\\n    #dataa=json.dumps(data, ensure_ascii=False)\\n    dataa=json.loads(json.dumps(data, ensure_ascii=False))\\n    url = \\'https://iflow-api.uc.cn/feiyan/area?uc_param_str=utpclocp&code=\\'+str(dataa.get(\\'num\\'))\\n    #print(url)\\n    Jsondata =requests.get(url)\\n    list=json.loads(Jsondata.text).get(\\'data\\').get(\\'areaes\\')\\n    for lista in list:\\n        jsonArr = json.dumps(lista, ensure_ascii=False)\\n        poi=json.loads(jsonArr)\\n        try:\\n            addr=poi.get(\\'posi_address\\')\\n            xx=poi.get(\\'point\\')[0]\\n            yy=poi.get(\\'point\\')[1]            \\n        except IndexError:\\n            xx=0\\n            yy=0\\n            print(addr,\\'没有坐标\\')\\n            result=result.append(pd.DataFrame({\\'x\\':[xx],\\'y\\':[yy],\\'add\\':[addr]}),ignore_index=True)\\n        else:\\n            result=result.append(pd.DataFrame({\\'x\\':[xx],\\'y\\':[yy],\\'add\\':[addr]}),ignore_index=True)\\n    #print(dataa.get(\\'city\\'),\\'完毕\\')\\n#print(len(result))\\n    #break\\ntim=time.strftime(\"%Y%m%d\")\\nresult.to_csv(\\'发病小区all\\'+\\'_\\'+tim+\\'_\\'+str(len(result))+\\'.csv\\',sep=\\',\\' ,index=False,encoding=\\'utf_8_sig\\')\\n'"
      ]
     },
     "execution_count": 2,
     "metadata": {},
     "output_type": "execute_result"
    }
   ],
   "source": [
    "import requests,json\n",
    "import time\n",
    "import pandas as pd\n",
    "from tqdm import tqdm\n",
	"numlist0=[{'num':340800,'city':'Anqing'},{'num':340300,'city':'Bengbu'},{'num':341600,'city':'Bozhou' },{'num':430700,'city':'Changde'},{'num':510100,'city':'Chengdu'},{'num':341200,'city':'Fuyang'}, {'num':440100,'city':'Guangzhou'},{'num':230100,'city':'Harbin'},{'num':340100,'city':'Hefei'},{' num':431200,'city':'Huaihua'},{'num':360400,'city':'Jiujiang'},{'num':341500,'city':'Liu'an'},{'num ':360100,'city':'Nanchang'},{'num':411300,'city':'Nanyang'},{'num':511000,'city':'Neijiang'},{'num': 330200,'city':'Ningbo'},{'num':410400,'city':'Pingdingshan'},{'num':350500,'city':'Quanzhou'},{'num':411400, 'city':'Shangqiu'},{'num':361100,'city':'Shangrao'},{'num':440300,'city':'Shenzhen'},{'num':320500,'city ':'Suzhou'},{'num':360500,'city':'Xinyu'},{'num':411500,'city':'Xinyang'},{'num':430900,'city': 'Yiyang'},{'num':430600,'city':'Yueyang'},{'num':430100,'city':'Changsha'},{'num':410100,'city':'Zhengzhou '},{'num':500000,'city':'Chongqing'},{'num':430200,'city':'Zhuzhou'}]\n",    
    "numlistjs=[{'num':320100,'city':'Nanjing City'},{'num':320200,'city':'Wuxi City'},{'num':320300,'city':' Xuzhou'},{'num':320400,'city':'Changzhou'},{'num':320500,'city':'Suzhou City'},{'num':320600,'city': 'Nantong City'},{'num':320700,'city':'Lianyungang City'},{'num':320800,'city':'Huai'an City'},{'num':320900,'city' :'Yancheng City'},{'num':321000,'city':'Yangzhou City'},{'num':321100,'city':'Zhenjiang City'},{'num':321200,'city ':'Taizhou City'},{'num':321300,'city':'Suqian City'}]\n",
    "result =pd.DataFrame(columns=('x','y','add'))\n",
    "for data in tqdm(numlistjs):\n",
    "    #dataa=json.dumps(data, ensure_ascii=False)\n",
    "    dataa=json.loads(json.dumps(data, ensure_ascii=False))\n",
    "    url = 'https://iflow-api.uc.cn/feiyan/area?uc_param_str=utpclocp&code='+str(dataa.get('num'))\n",
    "    #print(url)\n",
    "    Jsondata =requests.get(url)\n",
    "    list=json.loads(Jsondata.text).get('data').get('areaes')\n",
    "    for lista in list:\n",
    "        jsonArr = json.dumps(lista, ensure_ascii=False)\n",
    "        poi=json.loads(jsonArr)\n",
    "        try:\n",
    "            addr=poi.get('posi_address')\n",
    "            xx=poi.get('point')[0]\n",
    "            yy=poi.get('point')[1]            \n",
    "        except IndexError:\n",
    "            xx=0\n",
    "            yy=0\n",
    "            print(addr,'noAddress')\n",
    "            result=result.append(pd.DataFrame({'x':[xx],'y':[yy],'add':[addr]}),ignore_index=True)\n",
    "        else:\n",
    "            result=result.append(pd.DataFrame({'x':[xx],'y':[yy],'add':[addr]}),ignore_index=True)\n",
    "    #print(dataa.get('city'),'Done')\n",
    "#print(len(result))\n",
    "    #break\n",
    "tim=time.strftime(\"%Y%m%d\")\n",
    "result.to_csv('Comm'+'_'+tim+'_'+str(len(result))+'.csv',sep=',' ,index=False,encoding='utf_8_sig')\n",
    "\n",
    "result.drop(result.index,inplace=True)\n",
    "'''\n",
    "result =pd.DataFrame(columns=('x','y','add'))\n",
    "for data in tqdm(numlist):\n",
    "    #dataa=json.dumps(data, ensure_ascii=False)\n",
    "    dataa=json.loads(json.dumps(data, ensure_ascii=False))\n",
    "    url = 'https://iflow-api.uc.cn/feiyan/area?uc_param_str=utpclocp&code='+str(dataa.get('num'))\n",
    "    #print(url)\n",
    "    Jsondata =requests.get(url)\n",
    "    list=json.loads(Jsondata.text).get('data').get('areaes')\n",
    "    for lista in list:\n",
    "        jsonArr = json.dumps(lista, ensure_ascii=False)\n",
    "        poi=json.loads(jsonArr)\n",
    "        try:\n",
    "            addr=poi.get('posi_address')\n",
    "            xx=poi.get('point')[0]\n",
    "            yy=poi.get('point')[1]            \n",
    "        except IndexError:\n",
    "            xx=0\n",
    "            yy=0\n",
    "            print(addr,'NoAddress')\n",
    "            result=result.append(pd.DataFrame({'x':[xx],'y':[yy],'add':[addr]}),ignore_index=True)\n",
    "        else:\n",
    "            result=result.append(pd.DataFrame({'x':[xx],'y':[yy],'add':[addr]}),ignore_index=True)\n",
    "    #print(dataa.get('city'),'Done')\n",
    "#print(len(result))\n",
    "    #break\n",
    "tim=time.strftime(\"%Y%m%d\")\n",
    "result.to_csv('CovidCOMM_all'+'_'+tim+'_'+str(len(result))+'.csv',sep=',' ,index=False,encoding='utf_8_sig')\n",
    "'''"
   ]
  },
  {
   "cell_type": "code",
   "execution_count": 4,
   "metadata": {},
   "outputs": [],
   "source": []
  },
  {
   "cell_type": "code",
   "execution_count": null,
   "metadata": {},
   "outputs": [],
   "source": []
  }
 ],
 "metadata": {
  "kernelspec": {
   "display_name": "Python 3",
   "language": "python",
   "name": "python3"
  },
  "language_info": {
   "codemirror_mode": {
    "name": "ipython",
    "version": 3
   },
   "file_extension": ".py",
   "mimetype": "text/x-python",
   "name": "python",
   "nbconvert_exporter": "python",
   "pygments_lexer": "ipython3",
   "version": "3.7.0"
  }
 },
 "nbformat": 4,
 "nbformat_minor": 2
}
